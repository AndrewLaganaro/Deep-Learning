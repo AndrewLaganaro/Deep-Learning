{
 "cells": [
  {
   "cell_type": "markdown",
   "metadata": {},
   "source": [
    "# Imports and Settings "
   ]
  },
  {
   "cell_type": "code",
   "execution_count": 1,
   "metadata": {},
   "outputs": [
    {
     "name": "stderr",
     "output_type": "stream",
     "text": [
      "C:\\Users\\Arnaldo\\Miniconda3\\envs\\tensorflowgpu\\lib\\site-packages\\h5py\\__init__.py:36: FutureWarning: Conversion of the second argument of issubdtype from `float` to `np.floating` is deprecated. In future, it will be treated as `np.float64 == np.dtype(float).type`.\n",
      "  from ._conv import register_converters as _register_converters\n",
      "Using TensorFlow backend.\n"
     ]
    }
   ],
   "source": [
    "import numpy as np\n",
    "from time import time\n",
    "from keras.preprocessing import image"
   ]
  },
  {
   "cell_type": "code",
   "execution_count": 2,
   "metadata": {},
   "outputs": [],
   "source": [
    "img_path = 'data/cat.jpeg'"
   ]
  },
  {
   "cell_type": "markdown",
   "metadata": {},
   "source": [
    "# VGG-16"
   ]
  },
  {
   "cell_type": "code",
   "execution_count": 3,
   "metadata": {},
   "outputs": [],
   "source": [
    "from keras.applications.vgg16 import VGG16, preprocess_input, decode_predictions"
   ]
  },
  {
   "cell_type": "code",
   "execution_count": 5,
   "metadata": {},
   "outputs": [
    {
     "name": "stdout",
     "output_type": "stream",
     "text": [
      "Time (load): 3.198355197906494\n",
      "Time (pred): 0.27985191345214844\n",
      "Predicted: [('n02123597', 'Siamese_cat', 0.99982554), ('n02124075', 'Egyptian_cat', 0.00013118815), ('n02127052', 'lynx', 2.340992e-05)]\n"
     ]
    }
   ],
   "source": [
    "img = image.load_img(img_path, target_size=(224, 224))\n",
    "x = image.img_to_array(img)\n",
    "x = np.expand_dims(x, axis=0)\n",
    "\n",
    "start = time()\n",
    "model = VGG16(weights='imagenet')\n",
    "end = time()\n",
    "print('Time (load):', end-start)\n",
    "\n",
    "start = time()\n",
    "preds = model.predict(preprocess_input(x))\n",
    "end = time()\n",
    "\n",
    "print('Time (pred):', end-start)\n",
    "print('Predicted:', decode_predictions(preds, top=3)[0])"
   ]
  },
  {
   "cell_type": "markdown",
   "metadata": {},
   "source": [
    "# VGG-19 "
   ]
  },
  {
   "cell_type": "code",
   "execution_count": 6,
   "metadata": {},
   "outputs": [],
   "source": [
    "from keras.applications.vgg19 import VGG19, preprocess_input, decode_predictions"
   ]
  },
  {
   "cell_type": "code",
   "execution_count": 7,
   "metadata": {},
   "outputs": [
    {
     "name": "stdout",
     "output_type": "stream",
     "text": [
      "Time (load): 11.171243906021118\n",
      "Time (pred): 0.37581324577331543\n",
      "Predicted: [('n02123597', 'Siamese_cat', 0.9982522), ('n02124075', 'Egyptian_cat', 0.0015937388), ('n02127052', 'lynx', 0.00011591108)]\n"
     ]
    }
   ],
   "source": [
    "img = image.load_img(img_path, target_size=(224, 224))\n",
    "x = image.img_to_array(img)\n",
    "x = np.expand_dims(x, axis=0)\n",
    "\n",
    "start = time()\n",
    "model = VGG19(weights='imagenet')\n",
    "end = time()\n",
    "print('Time (load):', end-start)\n",
    "\n",
    "start = time()\n",
    "preds = model.predict(preprocess_input(x))\n",
    "end = time()\n",
    "\n",
    "print('Time (pred):', end-start)\n",
    "print('Predicted:', decode_predictions(preds, top=3)[0])"
   ]
  },
  {
   "cell_type": "markdown",
   "metadata": {},
   "source": [
    "# ResNet50 "
   ]
  },
  {
   "cell_type": "code",
   "execution_count": 8,
   "metadata": {},
   "outputs": [],
   "source": [
    "from keras.applications.resnet50 import ResNet50, preprocess_input, decode_predictions"
   ]
  },
  {
   "cell_type": "code",
   "execution_count": 9,
   "metadata": {},
   "outputs": [
    {
     "name": "stdout",
     "output_type": "stream",
     "text": [
      "Time (load): 8.05166506767273\n",
      "Time (pred): 1.134756088256836\n",
      "Predicted: [('n02123597', 'Siamese_cat', 0.9999095), ('n02124075', 'Egyptian_cat', 4.1121562e-05), ('n03887697', 'paper_towel', 5.4493353e-06)]\n"
     ]
    }
   ],
   "source": [
    "img = image.load_img(img_path, target_size=(224, 224))\n",
    "x = image.img_to_array(img)\n",
    "x = np.expand_dims(x, axis=0)\n",
    "\n",
    "start = time()\n",
    "model = ResNet50(weights='imagenet')\n",
    "end = time()\n",
    "print('Time (load):', end-start)\n",
    "\n",
    "start = time()\n",
    "preds = model.predict(preprocess_input(x))\n",
    "end = time()\n",
    "\n",
    "print('Time (pred):', end-start)\n",
    "print('Predicted:', decode_predictions(preds, top=3)[0])"
   ]
  },
  {
   "cell_type": "markdown",
   "metadata": {},
   "source": [
    "# MobileNet "
   ]
  },
  {
   "cell_type": "code",
   "execution_count": 10,
   "metadata": {},
   "outputs": [],
   "source": [
    "from keras.applications.mobilenet import MobileNet, preprocess_input, decode_predictions"
   ]
  },
  {
   "cell_type": "code",
   "execution_count": 11,
   "metadata": {},
   "outputs": [
    {
     "name": "stdout",
     "output_type": "stream",
     "text": [
      "Time (load): 4.326046943664551\n",
      "Time (pred): 0.6199889183044434\n",
      "Predicted: [('n02123597', 'Siamese_cat', 0.9999758), ('n02441942', 'weasel', 7.806485e-06), ('n02124075', 'Egyptian_cat', 5.0810904e-06)]\n"
     ]
    }
   ],
   "source": [
    "start = time()\n",
    "model = MobileNet(weights='imagenet')\n",
    "end = time()\n",
    "print('Time (load):', end-start)\n",
    "\n",
    "start = time()\n",
    "preds = model.predict(preprocess_input(x))\n",
    "end = time()\n",
    "\n",
    "print('Time (pred):', end-start)\n",
    "print('Predicted:', decode_predictions(preds, top=3)[0])"
   ]
  },
  {
   "cell_type": "markdown",
   "metadata": {
    "collapsed": true
   },
   "source": [
    "# Inception v3 "
   ]
  },
  {
   "cell_type": "code",
   "execution_count": 12,
   "metadata": {},
   "outputs": [],
   "source": [
    "from keras.applications.inception_v3 import InceptionV3, preprocess_input, decode_predictions"
   ]
  },
  {
   "cell_type": "code",
   "execution_count": 13,
   "metadata": {},
   "outputs": [
    {
     "name": "stdout",
     "output_type": "stream",
     "text": [
      "Time (load): 14.973544359207153\n",
      "Time (pred): 2.2835655212402344\n",
      "Predicted: [('n02123597', 'Siamese_cat', 0.97414625), ('n02124075', 'Egyptian_cat', 0.0011265682), ('n03131574', 'crib', 0.00080873276)]\n"
     ]
    }
   ],
   "source": [
    "img = image.load_img(img_path, target_size=(299, 299))\n",
    "x = image.img_to_array(img)\n",
    "x = np.expand_dims(x, axis=0)\n",
    "\n",
    "start = time()\n",
    "model = InceptionV3(weights='imagenet')\n",
    "end = time()\n",
    "print('Time (load):', end-start)\n",
    "\n",
    "start = time()\n",
    "preds = model.predict(preprocess_input(x))\n",
    "end = time()\n",
    "\n",
    "print('Time (pred):', end-start)\n",
    "print('Predicted:', decode_predictions(preds, top=3)[0])"
   ]
  },
  {
   "cell_type": "markdown",
   "metadata": {},
   "source": [
    "# Xception "
   ]
  },
  {
   "cell_type": "code",
   "execution_count": 14,
   "metadata": {},
   "outputs": [],
   "source": [
    "from keras.applications.xception import Xception, preprocess_input, decode_predictions"
   ]
  },
  {
   "cell_type": "code",
   "execution_count": 15,
   "metadata": {},
   "outputs": [
    {
     "name": "stdout",
     "output_type": "stream",
     "text": [
      "Time (load): 9.270846605300903\n",
      "Time (pred): 1.6070809364318848\n",
      "Predicted: [('n02123597', 'Siamese_cat', 0.9861077), ('n02124075', 'Egyptian_cat', 0.0005180771), ('n03899768', 'patio', 0.00036705102)]\n"
     ]
    }
   ],
   "source": [
    "img = image.load_img(img_path, target_size=(299, 299))\n",
    "x = image.img_to_array(img)\n",
    "x = np.expand_dims(x, axis=0)\n",
    "\n",
    "start = time()\n",
    "model = Xception(weights='imagenet')\n",
    "end = time()\n",
    "print('Time (load):', end-start)\n",
    "\n",
    "start = time()\n",
    "preds = model.predict(preprocess_input(x))\n",
    "end = time()\n",
    "\n",
    "print('Time (pred):', end-start)\n",
    "print('Predicted:', decode_predictions(preds, top=3)[0])"
   ]
  },
  {
   "cell_type": "code",
   "execution_count": null,
   "metadata": {},
   "outputs": [],
   "source": []
  }
 ],
 "metadata": {
  "kernelspec": {
   "display_name": "Python 3",
   "language": "python",
   "name": "python3"
  },
  "language_info": {
   "codemirror_mode": {
    "name": "ipython",
    "version": 3
   },
   "file_extension": ".py",
   "mimetype": "text/x-python",
   "name": "python",
   "nbconvert_exporter": "python",
   "pygments_lexer": "ipython3",
   "version": "3.6.4"
  }
 },
 "nbformat": 4,
 "nbformat_minor": 2
}
